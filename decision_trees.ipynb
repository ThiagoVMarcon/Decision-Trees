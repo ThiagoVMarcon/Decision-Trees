{
 "cells": [
  {
   "cell_type": "code",
   "execution_count": null,
   "metadata": {},
   "outputs": [],
   "source": [
    "import numpy as np\n",
    "import pandas as pd\n",
    "\n",
    "restaurant = pd.read_csv('restaurant.csv')\n",
    "weather = pd.read_csv('weather.csv')\n",
    "iris = pd.read_csv('iris.csv')\n",
    "connect4 = pd.read_csv('connect4.csv')\n"
   ]
  }
 ],
 "metadata": {
  "language_info": {
   "name": "python"
  }
 },
 "nbformat": 4,
 "nbformat_minor": 2
}
